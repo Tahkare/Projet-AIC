{
 "cells": [
  {
   "cell_type": "markdown",
   "metadata": {},
   "source": [
    "<div style=\"background:#FFFFAA\">\n",
    "<img src=\"logo.jpg\", width=150, ALIGN=\"left\", border=20>\n",
    "<h1>Sample Starting Kit </h1>\n",
    "    <span style=\"color:red\"> <h1> Keep all code below **yellow** text blocks, </h1> </span>\n",
    "    <span style=\"color:red\"> <h1> but check that it works (you can ADD not remove). </h1> </span>\n",
    "    <span style=\"color:red\"> <h1> Customize Section (1) and modify the explanations.</h1> </span>\n",
    "\n",
    "<br>This code was tested with <br>\n",
    "Python 3.6.6 |Anaconda custom (64-bit)| (default, Jun 28 2018, 11:07:29) (https://anaconda.org/)<br>\n",
    "<i> Adapted for Chalab by Isabelle Guyon from original code of Balázs Kégl</i> <br>\n",
    "<a href=\"http://www.datascience-paris-saclay.fr\">Paris Saclay Center for Data Science (CDS)</a>\n",
    "</center>\n",
    "<p>\n",
    "ALL INFORMATION, SOFTWARE, DOCUMENTATION, AND DATA ARE PROVIDED \"AS-IS\". The CDS, CHALEARN, AND/OR OTHER ORGANIZERS OR CODE AUTHORS DISCLAIM ANY EXPRESSED OR IMPLIED WARRANTIES, INCLUDING, BUT NOT LIMITED TO, THE IMPLIED WARRANTIES OF MERCHANTABILITY AND FITNESS FOR ANY PARTICULAR PURPOSE, AND THE WARRANTY OF NON-INFRIGEMENT OF ANY THIRD PARTY'S INTELLECTUAL PROPERTY RIGHTS. IN NO EVENT SHALL AUTHORS AND ORGANIZERS BE LIABLE FOR ANY SPECIAL, \n",
    "INDIRECT OR CONSEQUENTIAL DAMAGES OR ANY DAMAGES WHATSOEVER ARISING OUT OF OR IN CONNECTION WITH THE USE OR PERFORMANCE OF SOFTWARE, DOCUMENTS, MATERIALS, PUBLICATIONS, OR INFORMATION MADE AVAILABLE FOR THE CHALLENGE. \n",
    "</div>"
   ]
  },
  {
   "cell_type": "markdown",
   "metadata": {},
   "source": [
    "<div style=\"background:#FFFFAA\">\n",
    "    <h2>Introduction </h2>\n",
    "     <br>\n",
    "       \n",
    "According to [NRMA15], a link has been found between the quality of water and the presence of plankton in said water. As water quality increases, the abundance and diversity of plankton does as well. The aim of our project is to build a plankton classifier to assess water quality.\n",
    "\n",
    "We use for this problem the Bering Sea dataset, an in situ plankton dataset published in May 2019 by Kaichang Cheng [Che19]. This datset contains 7 classes with an even spread.\n",
    "\n",
    "        \n",
    "References and credits: \n",
    "- [NRMA15] A. Nair, J.K. Reshma, A. Mathew, and A. Ashok. Effect of water quality on phytoplankton abundance in selected ponds of nedumangad block panchayat, kerala. Emer Life Sci Res, 2015.\n",
    "- [Che19] K. Cheng. Bering sea dataset. https://doi.org/10.6084/m9.figshare.8146283.v3, 2019.\n",
    " <br>\n",
    "</div>"
   ]
  },
  {
   "cell_type": "code",
   "execution_count": 1,
   "metadata": {},
   "outputs": [],
   "source": [
    "model_dir = 'sample_code_submission/'                        # Change the model to a better one once you have one!\n",
    "#model_dir = '../FILES/pretty_good_sample_code_submission/'\n",
    "result_dir = 'sample_result_submission/' \n",
    "problem_dir = 'ingestion_program/'  \n",
    "score_dir = 'scoring_program/'\n",
    "from sys import path; path.append(model_dir); path.append(problem_dir); path.append(score_dir); \n",
    "%matplotlib inline\n",
    "# Uncomment the next lines to auto-reload libraries (this causes some problem with pickles in Python 3)\n",
    "%load_ext autoreload\n",
    "%autoreload 2\n",
    "import seaborn as sns; sns.set()\n",
    "import warnings\n",
    "warnings.simplefilter(action='ignore', category=FutureWarning)"
   ]
  },
  {
   "cell_type": "markdown",
   "metadata": {},
   "source": [
    "<div style=\"background:#FFFFAA\">\n",
    "    <h1> Step 1: Exploratory data analysis </h1>\n",
    "<p>\n",
    "We provide sample_data with the starting kit, but to prepare your submission, you must fetch the public_data from the challenge website and point to it.\n",
    "    <br>\n",
    "    <span style=\"color:red\"> Just change the data name in the block below. In the rest of the section, replace the sample plots by anything you want. </span>\n",
    "</div>"
   ]
  },
  {
   "cell_type": "code",
   "execution_count": 2,
   "metadata": {},
   "outputs": [
    {
     "name": "stdout",
     "output_type": "stream",
     "text": [
      "plankton_feat.name     plankton_test.data\tplankton_valid.data\r\n",
      "plankton_label.name    plankton_test.solution\tplankton_valid.solution\r\n",
      "plankton_private.info  plankton_train.data\r\n",
      "plankton_public.info   plankton_train.solution\r\n"
     ]
    }
   ],
   "source": [
    "data_dir = 'sample_data'              # Change this to the directory where you put the input data\n",
    "#data_dir = '../FILES/iris/'          # The sample_data directory should contain only a very small subset of the data\n",
    "data_name = 'plankton'\n",
    "!ls $data_dir*"
   ]
  },
  {
   "cell_type": "markdown",
   "metadata": {},
   "source": [
    "For convenience, we load the data as a \"pandas\" data frame, so we can use \"pandas\" and \"seaborn\" built in functions to explore the data."
   ]
  },
  {
   "cell_type": "code",
   "execution_count": 3,
   "metadata": {},
   "outputs": [
    {
     "name": "stdout",
     "output_type": "stream",
     "text": [
      "Reading sample_data/plankton_train from AutoML format\n",
      "Number of examples = 1400\n",
      "Number of features = 10000\n",
      "          Class\n",
      "0  chaetognatha\n",
      "1      copepoda\n",
      "2   euphausiids\n",
      "3   fish_larvae\n",
      "4      limacina\n",
      "5       medusae\n",
      "6         other\n",
      "Number of classes = 7\n"
     ]
    }
   ],
   "source": [
    "from data_io import read_as_df\n",
    "data = read_as_df(data_dir  + '/' + data_name)                # The data are loaded as a Pandas Data Frame"
   ]
  },
  {
   "cell_type": "code",
   "execution_count": 4,
   "metadata": {},
   "outputs": [
    {
     "data": {
      "text/html": [
       "<div>\n",
       "<style scoped>\n",
       "    .dataframe tbody tr th:only-of-type {\n",
       "        vertical-align: middle;\n",
       "    }\n",
       "\n",
       "    .dataframe tbody tr th {\n",
       "        vertical-align: top;\n",
       "    }\n",
       "\n",
       "    .dataframe thead th {\n",
       "        text-align: right;\n",
       "    }\n",
       "</style>\n",
       "<table border=\"1\" class=\"dataframe\">\n",
       "  <thead>\n",
       "    <tr style=\"text-align: right;\">\n",
       "      <th></th>\n",
       "      <th>Pixel 0</th>\n",
       "      <th>Pixel 1</th>\n",
       "      <th>Pixel 2</th>\n",
       "      <th>Pixel 3</th>\n",
       "      <th>Pixel 4</th>\n",
       "      <th>Pixel 5</th>\n",
       "      <th>Pixel 6</th>\n",
       "      <th>Pixel 7</th>\n",
       "      <th>Pixel 8</th>\n",
       "      <th>Pixel 9</th>\n",
       "      <th>...</th>\n",
       "      <th>Pixel 9991</th>\n",
       "      <th>Pixel 9992</th>\n",
       "      <th>Pixel 9993</th>\n",
       "      <th>Pixel 9994</th>\n",
       "      <th>Pixel 9995</th>\n",
       "      <th>Pixel 9996</th>\n",
       "      <th>Pixel 9997</th>\n",
       "      <th>Pixel 9998</th>\n",
       "      <th>Pixel 9999</th>\n",
       "      <th>target</th>\n",
       "    </tr>\n",
       "  </thead>\n",
       "  <tbody>\n",
       "    <tr>\n",
       "      <th>0</th>\n",
       "      <td>255</td>\n",
       "      <td>255</td>\n",
       "      <td>255</td>\n",
       "      <td>255</td>\n",
       "      <td>255</td>\n",
       "      <td>255</td>\n",
       "      <td>255</td>\n",
       "      <td>255</td>\n",
       "      <td>255</td>\n",
       "      <td>255</td>\n",
       "      <td>...</td>\n",
       "      <td>255</td>\n",
       "      <td>255</td>\n",
       "      <td>255</td>\n",
       "      <td>255</td>\n",
       "      <td>255</td>\n",
       "      <td>255</td>\n",
       "      <td>255</td>\n",
       "      <td>255</td>\n",
       "      <td>255</td>\n",
       "      <td>medusae</td>\n",
       "    </tr>\n",
       "    <tr>\n",
       "      <th>1</th>\n",
       "      <td>255</td>\n",
       "      <td>255</td>\n",
       "      <td>255</td>\n",
       "      <td>255</td>\n",
       "      <td>255</td>\n",
       "      <td>255</td>\n",
       "      <td>255</td>\n",
       "      <td>255</td>\n",
       "      <td>248</td>\n",
       "      <td>189</td>\n",
       "      <td>...</td>\n",
       "      <td>249</td>\n",
       "      <td>254</td>\n",
       "      <td>255</td>\n",
       "      <td>255</td>\n",
       "      <td>255</td>\n",
       "      <td>255</td>\n",
       "      <td>255</td>\n",
       "      <td>255</td>\n",
       "      <td>255</td>\n",
       "      <td>copepoda</td>\n",
       "    </tr>\n",
       "    <tr>\n",
       "      <th>2</th>\n",
       "      <td>255</td>\n",
       "      <td>255</td>\n",
       "      <td>255</td>\n",
       "      <td>255</td>\n",
       "      <td>255</td>\n",
       "      <td>255</td>\n",
       "      <td>255</td>\n",
       "      <td>255</td>\n",
       "      <td>255</td>\n",
       "      <td>255</td>\n",
       "      <td>...</td>\n",
       "      <td>255</td>\n",
       "      <td>255</td>\n",
       "      <td>255</td>\n",
       "      <td>255</td>\n",
       "      <td>255</td>\n",
       "      <td>255</td>\n",
       "      <td>255</td>\n",
       "      <td>255</td>\n",
       "      <td>255</td>\n",
       "      <td>fish_larvae</td>\n",
       "    </tr>\n",
       "    <tr>\n",
       "      <th>3</th>\n",
       "      <td>255</td>\n",
       "      <td>255</td>\n",
       "      <td>255</td>\n",
       "      <td>255</td>\n",
       "      <td>255</td>\n",
       "      <td>213</td>\n",
       "      <td>155</td>\n",
       "      <td>166</td>\n",
       "      <td>167</td>\n",
       "      <td>169</td>\n",
       "      <td>...</td>\n",
       "      <td>135</td>\n",
       "      <td>137</td>\n",
       "      <td>151</td>\n",
       "      <td>231</td>\n",
       "      <td>254</td>\n",
       "      <td>255</td>\n",
       "      <td>255</td>\n",
       "      <td>255</td>\n",
       "      <td>255</td>\n",
       "      <td>euphausiids</td>\n",
       "    </tr>\n",
       "    <tr>\n",
       "      <th>4</th>\n",
       "      <td>255</td>\n",
       "      <td>255</td>\n",
       "      <td>255</td>\n",
       "      <td>255</td>\n",
       "      <td>255</td>\n",
       "      <td>255</td>\n",
       "      <td>255</td>\n",
       "      <td>255</td>\n",
       "      <td>255</td>\n",
       "      <td>255</td>\n",
       "      <td>...</td>\n",
       "      <td>255</td>\n",
       "      <td>255</td>\n",
       "      <td>255</td>\n",
       "      <td>255</td>\n",
       "      <td>255</td>\n",
       "      <td>255</td>\n",
       "      <td>255</td>\n",
       "      <td>255</td>\n",
       "      <td>255</td>\n",
       "      <td>medusae</td>\n",
       "    </tr>\n",
       "  </tbody>\n",
       "</table>\n",
       "<p>5 rows × 10001 columns</p>\n",
       "</div>"
      ],
      "text/plain": [
       "   Pixel 0  Pixel 1  Pixel 2  Pixel 3  Pixel 4  Pixel 5  Pixel 6  Pixel 7  \\\n",
       "0      255      255      255      255      255      255      255      255   \n",
       "1      255      255      255      255      255      255      255      255   \n",
       "2      255      255      255      255      255      255      255      255   \n",
       "3      255      255      255      255      255      213      155      166   \n",
       "4      255      255      255      255      255      255      255      255   \n",
       "\n",
       "   Pixel 8  Pixel 9  ...  Pixel 9991  Pixel 9992  Pixel 9993  Pixel 9994  \\\n",
       "0      255      255  ...         255         255         255         255   \n",
       "1      248      189  ...         249         254         255         255   \n",
       "2      255      255  ...         255         255         255         255   \n",
       "3      167      169  ...         135         137         151         231   \n",
       "4      255      255  ...         255         255         255         255   \n",
       "\n",
       "   Pixel 9995  Pixel 9996  Pixel 9997  Pixel 9998  Pixel 9999       target  \n",
       "0         255         255         255         255         255      medusae  \n",
       "1         255         255         255         255         255     copepoda  \n",
       "2         255         255         255         255         255  fish_larvae  \n",
       "3         254         255         255         255         255  euphausiids  \n",
       "4         255         255         255         255         255      medusae  \n",
       "\n",
       "[5 rows x 10001 columns]"
      ]
     },
     "execution_count": 4,
     "metadata": {},
     "output_type": "execute_result"
    }
   ],
   "source": [
    "data.head()"
   ]
  },
  {
   "cell_type": "code",
   "execution_count": 5,
   "metadata": {},
   "outputs": [
    {
     "data": {
      "text/html": [
       "<div>\n",
       "<style scoped>\n",
       "    .dataframe tbody tr th:only-of-type {\n",
       "        vertical-align: middle;\n",
       "    }\n",
       "\n",
       "    .dataframe tbody tr th {\n",
       "        vertical-align: top;\n",
       "    }\n",
       "\n",
       "    .dataframe thead th {\n",
       "        text-align: right;\n",
       "    }\n",
       "</style>\n",
       "<table border=\"1\" class=\"dataframe\">\n",
       "  <thead>\n",
       "    <tr style=\"text-align: right;\">\n",
       "      <th></th>\n",
       "      <th>sepal_length</th>\n",
       "      <th>sepal_width</th>\n",
       "      <th>petal_length</th>\n",
       "      <th>petal_width</th>\n",
       "    </tr>\n",
       "  </thead>\n",
       "  <tbody>\n",
       "    <tr>\n",
       "      <th>count</th>\n",
       "      <td>35.000000</td>\n",
       "      <td>35.000000</td>\n",
       "      <td>35.000000</td>\n",
       "      <td>35.000000</td>\n",
       "    </tr>\n",
       "    <tr>\n",
       "      <th>mean</th>\n",
       "      <td>5.625714</td>\n",
       "      <td>3.005714</td>\n",
       "      <td>3.402857</td>\n",
       "      <td>1.054286</td>\n",
       "    </tr>\n",
       "    <tr>\n",
       "      <th>std</th>\n",
       "      <td>0.892565</td>\n",
       "      <td>0.421442</td>\n",
       "      <td>1.962514</td>\n",
       "      <td>0.839588</td>\n",
       "    </tr>\n",
       "    <tr>\n",
       "      <th>min</th>\n",
       "      <td>4.300000</td>\n",
       "      <td>2.000000</td>\n",
       "      <td>1.000000</td>\n",
       "      <td>0.100000</td>\n",
       "    </tr>\n",
       "    <tr>\n",
       "      <th>25%</th>\n",
       "      <td>4.900000</td>\n",
       "      <td>2.800000</td>\n",
       "      <td>1.450000</td>\n",
       "      <td>0.200000</td>\n",
       "    </tr>\n",
       "    <tr>\n",
       "      <th>50%</th>\n",
       "      <td>5.500000</td>\n",
       "      <td>3.000000</td>\n",
       "      <td>3.700000</td>\n",
       "      <td>1.000000</td>\n",
       "    </tr>\n",
       "    <tr>\n",
       "      <th>75%</th>\n",
       "      <td>6.300000</td>\n",
       "      <td>3.250000</td>\n",
       "      <td>5.100000</td>\n",
       "      <td>1.800000</td>\n",
       "    </tr>\n",
       "    <tr>\n",
       "      <th>max</th>\n",
       "      <td>7.700000</td>\n",
       "      <td>4.000000</td>\n",
       "      <td>6.700000</td>\n",
       "      <td>2.500000</td>\n",
       "    </tr>\n",
       "  </tbody>\n",
       "</table>\n",
       "</div>"
      ],
      "text/plain": [
       "       sepal_length  sepal_width  petal_length  petal_width\n",
       "count     35.000000    35.000000     35.000000    35.000000\n",
       "mean       5.625714     3.005714      3.402857     1.054286\n",
       "std        0.892565     0.421442      1.962514     0.839588\n",
       "min        4.300000     2.000000      1.000000     0.100000\n",
       "25%        4.900000     2.800000      1.450000     0.200000\n",
       "50%        5.500000     3.000000      3.700000     1.000000\n",
       "75%        6.300000     3.250000      5.100000     1.800000\n",
       "max        7.700000     4.000000      6.700000     2.500000"
      ]
     },
     "execution_count": 5,
     "metadata": {},
     "output_type": "execute_result"
    }
   ],
   "source": [
    "data.describe() "
   ]
  },
  {
   "cell_type": "code",
   "execution_count": 5,
   "metadata": {},
   "outputs": [
    {
     "data": {
      "text/html": [
       "<div>\n",
       "<style scoped>\n",
       "    .dataframe tbody tr th:only-of-type {\n",
       "        vertical-align: middle;\n",
       "    }\n",
       "\n",
       "    .dataframe tbody tr th {\n",
       "        vertical-align: top;\n",
       "    }\n",
       "\n",
       "    .dataframe thead th {\n",
       "        text-align: right;\n",
       "    }\n",
       "</style>\n",
       "<table border=\"1\" class=\"dataframe\">\n",
       "  <thead>\n",
       "    <tr style=\"text-align: right;\">\n",
       "      <th></th>\n",
       "      <th>Pixel 0</th>\n",
       "      <th>Pixel 1</th>\n",
       "      <th>Pixel 2</th>\n",
       "      <th>Pixel 3</th>\n",
       "      <th>Pixel 4</th>\n",
       "      <th>Pixel 5</th>\n",
       "      <th>Pixel 6</th>\n",
       "      <th>Pixel 7</th>\n",
       "      <th>Pixel 8</th>\n",
       "      <th>Pixel 9</th>\n",
       "      <th>...</th>\n",
       "      <th>Pixel 9990</th>\n",
       "      <th>Pixel 9991</th>\n",
       "      <th>Pixel 9992</th>\n",
       "      <th>Pixel 9993</th>\n",
       "      <th>Pixel 9994</th>\n",
       "      <th>Pixel 9995</th>\n",
       "      <th>Pixel 9996</th>\n",
       "      <th>Pixel 9997</th>\n",
       "      <th>Pixel 9998</th>\n",
       "      <th>Pixel 9999</th>\n",
       "    </tr>\n",
       "  </thead>\n",
       "  <tbody>\n",
       "    <tr>\n",
       "      <th>count</th>\n",
       "      <td>1400.000000</td>\n",
       "      <td>1400.000000</td>\n",
       "      <td>1400.000000</td>\n",
       "      <td>1400.000000</td>\n",
       "      <td>1400.000000</td>\n",
       "      <td>1400.000000</td>\n",
       "      <td>1400.000000</td>\n",
       "      <td>1400.000000</td>\n",
       "      <td>1400.000000</td>\n",
       "      <td>1400.000000</td>\n",
       "      <td>...</td>\n",
       "      <td>1400.000000</td>\n",
       "      <td>1400.000000</td>\n",
       "      <td>1400.000000</td>\n",
       "      <td>1400.000000</td>\n",
       "      <td>1400.000000</td>\n",
       "      <td>1400.000000</td>\n",
       "      <td>1400.000000</td>\n",
       "      <td>1400.000000</td>\n",
       "      <td>1400.000000</td>\n",
       "      <td>1400.000000</td>\n",
       "    </tr>\n",
       "    <tr>\n",
       "      <th>mean</th>\n",
       "      <td>252.141429</td>\n",
       "      <td>251.111429</td>\n",
       "      <td>249.370000</td>\n",
       "      <td>247.987143</td>\n",
       "      <td>245.807857</td>\n",
       "      <td>243.590714</td>\n",
       "      <td>242.027857</td>\n",
       "      <td>240.290000</td>\n",
       "      <td>238.685714</td>\n",
       "      <td>237.639286</td>\n",
       "      <td>...</td>\n",
       "      <td>236.408571</td>\n",
       "      <td>237.556429</td>\n",
       "      <td>239.650000</td>\n",
       "      <td>241.543571</td>\n",
       "      <td>243.510714</td>\n",
       "      <td>245.987143</td>\n",
       "      <td>247.671429</td>\n",
       "      <td>249.274286</td>\n",
       "      <td>251.235000</td>\n",
       "      <td>252.160714</td>\n",
       "    </tr>\n",
       "    <tr>\n",
       "      <th>std</th>\n",
       "      <td>15.196262</td>\n",
       "      <td>17.311604</td>\n",
       "      <td>21.303658</td>\n",
       "      <td>24.140578</td>\n",
       "      <td>27.325367</td>\n",
       "      <td>31.221962</td>\n",
       "      <td>33.549553</td>\n",
       "      <td>34.917858</td>\n",
       "      <td>37.049160</td>\n",
       "      <td>38.183606</td>\n",
       "      <td>...</td>\n",
       "      <td>42.051878</td>\n",
       "      <td>41.012625</td>\n",
       "      <td>38.256858</td>\n",
       "      <td>36.011468</td>\n",
       "      <td>32.834650</td>\n",
       "      <td>29.145684</td>\n",
       "      <td>26.565641</td>\n",
       "      <td>22.808471</td>\n",
       "      <td>18.456209</td>\n",
       "      <td>15.872320</td>\n",
       "    </tr>\n",
       "    <tr>\n",
       "      <th>min</th>\n",
       "      <td>80.000000</td>\n",
       "      <td>12.000000</td>\n",
       "      <td>13.000000</td>\n",
       "      <td>5.000000</td>\n",
       "      <td>5.000000</td>\n",
       "      <td>6.000000</td>\n",
       "      <td>6.000000</td>\n",
       "      <td>6.000000</td>\n",
       "      <td>6.000000</td>\n",
       "      <td>6.000000</td>\n",
       "      <td>...</td>\n",
       "      <td>4.000000</td>\n",
       "      <td>4.000000</td>\n",
       "      <td>6.000000</td>\n",
       "      <td>6.000000</td>\n",
       "      <td>6.000000</td>\n",
       "      <td>6.000000</td>\n",
       "      <td>5.000000</td>\n",
       "      <td>10.000000</td>\n",
       "      <td>10.000000</td>\n",
       "      <td>19.000000</td>\n",
       "    </tr>\n",
       "    <tr>\n",
       "      <th>25%</th>\n",
       "      <td>255.000000</td>\n",
       "      <td>255.000000</td>\n",
       "      <td>255.000000</td>\n",
       "      <td>255.000000</td>\n",
       "      <td>255.000000</td>\n",
       "      <td>255.000000</td>\n",
       "      <td>255.000000</td>\n",
       "      <td>255.000000</td>\n",
       "      <td>255.000000</td>\n",
       "      <td>255.000000</td>\n",
       "      <td>...</td>\n",
       "      <td>255.000000</td>\n",
       "      <td>255.000000</td>\n",
       "      <td>255.000000</td>\n",
       "      <td>255.000000</td>\n",
       "      <td>255.000000</td>\n",
       "      <td>255.000000</td>\n",
       "      <td>255.000000</td>\n",
       "      <td>255.000000</td>\n",
       "      <td>255.000000</td>\n",
       "      <td>255.000000</td>\n",
       "    </tr>\n",
       "    <tr>\n",
       "      <th>50%</th>\n",
       "      <td>255.000000</td>\n",
       "      <td>255.000000</td>\n",
       "      <td>255.000000</td>\n",
       "      <td>255.000000</td>\n",
       "      <td>255.000000</td>\n",
       "      <td>255.000000</td>\n",
       "      <td>255.000000</td>\n",
       "      <td>255.000000</td>\n",
       "      <td>255.000000</td>\n",
       "      <td>255.000000</td>\n",
       "      <td>...</td>\n",
       "      <td>255.000000</td>\n",
       "      <td>255.000000</td>\n",
       "      <td>255.000000</td>\n",
       "      <td>255.000000</td>\n",
       "      <td>255.000000</td>\n",
       "      <td>255.000000</td>\n",
       "      <td>255.000000</td>\n",
       "      <td>255.000000</td>\n",
       "      <td>255.000000</td>\n",
       "      <td>255.000000</td>\n",
       "    </tr>\n",
       "    <tr>\n",
       "      <th>75%</th>\n",
       "      <td>255.000000</td>\n",
       "      <td>255.000000</td>\n",
       "      <td>255.000000</td>\n",
       "      <td>255.000000</td>\n",
       "      <td>255.000000</td>\n",
       "      <td>255.000000</td>\n",
       "      <td>255.000000</td>\n",
       "      <td>255.000000</td>\n",
       "      <td>255.000000</td>\n",
       "      <td>255.000000</td>\n",
       "      <td>...</td>\n",
       "      <td>255.000000</td>\n",
       "      <td>255.000000</td>\n",
       "      <td>255.000000</td>\n",
       "      <td>255.000000</td>\n",
       "      <td>255.000000</td>\n",
       "      <td>255.000000</td>\n",
       "      <td>255.000000</td>\n",
       "      <td>255.000000</td>\n",
       "      <td>255.000000</td>\n",
       "      <td>255.000000</td>\n",
       "    </tr>\n",
       "    <tr>\n",
       "      <th>max</th>\n",
       "      <td>255.000000</td>\n",
       "      <td>255.000000</td>\n",
       "      <td>255.000000</td>\n",
       "      <td>255.000000</td>\n",
       "      <td>255.000000</td>\n",
       "      <td>255.000000</td>\n",
       "      <td>255.000000</td>\n",
       "      <td>255.000000</td>\n",
       "      <td>255.000000</td>\n",
       "      <td>255.000000</td>\n",
       "      <td>...</td>\n",
       "      <td>255.000000</td>\n",
       "      <td>255.000000</td>\n",
       "      <td>255.000000</td>\n",
       "      <td>255.000000</td>\n",
       "      <td>255.000000</td>\n",
       "      <td>255.000000</td>\n",
       "      <td>255.000000</td>\n",
       "      <td>255.000000</td>\n",
       "      <td>255.000000</td>\n",
       "      <td>255.000000</td>\n",
       "    </tr>\n",
       "  </tbody>\n",
       "</table>\n",
       "<p>8 rows × 10000 columns</p>\n",
       "</div>"
      ],
      "text/plain": [
       "           Pixel 0      Pixel 1      Pixel 2      Pixel 3      Pixel 4  \\\n",
       "count  1400.000000  1400.000000  1400.000000  1400.000000  1400.000000   \n",
       "mean    252.141429   251.111429   249.370000   247.987143   245.807857   \n",
       "std      15.196262    17.311604    21.303658    24.140578    27.325367   \n",
       "min      80.000000    12.000000    13.000000     5.000000     5.000000   \n",
       "25%     255.000000   255.000000   255.000000   255.000000   255.000000   \n",
       "50%     255.000000   255.000000   255.000000   255.000000   255.000000   \n",
       "75%     255.000000   255.000000   255.000000   255.000000   255.000000   \n",
       "max     255.000000   255.000000   255.000000   255.000000   255.000000   \n",
       "\n",
       "           Pixel 5      Pixel 6      Pixel 7      Pixel 8      Pixel 9  ...  \\\n",
       "count  1400.000000  1400.000000  1400.000000  1400.000000  1400.000000  ...   \n",
       "mean    243.590714   242.027857   240.290000   238.685714   237.639286  ...   \n",
       "std      31.221962    33.549553    34.917858    37.049160    38.183606  ...   \n",
       "min       6.000000     6.000000     6.000000     6.000000     6.000000  ...   \n",
       "25%     255.000000   255.000000   255.000000   255.000000   255.000000  ...   \n",
       "50%     255.000000   255.000000   255.000000   255.000000   255.000000  ...   \n",
       "75%     255.000000   255.000000   255.000000   255.000000   255.000000  ...   \n",
       "max     255.000000   255.000000   255.000000   255.000000   255.000000  ...   \n",
       "\n",
       "        Pixel 9990   Pixel 9991   Pixel 9992   Pixel 9993   Pixel 9994  \\\n",
       "count  1400.000000  1400.000000  1400.000000  1400.000000  1400.000000   \n",
       "mean    236.408571   237.556429   239.650000   241.543571   243.510714   \n",
       "std      42.051878    41.012625    38.256858    36.011468    32.834650   \n",
       "min       4.000000     4.000000     6.000000     6.000000     6.000000   \n",
       "25%     255.000000   255.000000   255.000000   255.000000   255.000000   \n",
       "50%     255.000000   255.000000   255.000000   255.000000   255.000000   \n",
       "75%     255.000000   255.000000   255.000000   255.000000   255.000000   \n",
       "max     255.000000   255.000000   255.000000   255.000000   255.000000   \n",
       "\n",
       "        Pixel 9995   Pixel 9996   Pixel 9997   Pixel 9998   Pixel 9999  \n",
       "count  1400.000000  1400.000000  1400.000000  1400.000000  1400.000000  \n",
       "mean    245.987143   247.671429   249.274286   251.235000   252.160714  \n",
       "std      29.145684    26.565641    22.808471    18.456209    15.872320  \n",
       "min       6.000000     5.000000    10.000000    10.000000    19.000000  \n",
       "25%     255.000000   255.000000   255.000000   255.000000   255.000000  \n",
       "50%     255.000000   255.000000   255.000000   255.000000   255.000000  \n",
       "75%     255.000000   255.000000   255.000000   255.000000   255.000000  \n",
       "max     255.000000   255.000000   255.000000   255.000000   255.000000  \n",
       "\n",
       "[8 rows x 10000 columns]"
      ]
     },
     "execution_count": 5,
     "metadata": {},
     "output_type": "execute_result"
    }
   ],
   "source": [
    "data.describe() "
   ]
  },
  {
   "cell_type": "code",
   "execution_count": 10,
   "metadata": {},
   "outputs": [
    {
     "data": {
      "image/png": "[encoded data removed]",
      "text/plain": [
       "<Figure size 720x720 with 6 Axes>"
      ]
     },
     "metadata": {
      "needs_background": "light"
     },
     "output_type": "display_data"
    }
   ],
   "source": [
    "data[['Pixel 0', 'Pixel 2500', 'Pixel 5000', 'Pixel 7500']].hist(figsize=(10, 10), bins=50, layout=(3, 2));"
   ]
  },
  {
   "cell_type": "code",
   "execution_count": 12,
   "metadata": {},
   "outputs": [
    {
     "data": {
      "text/plain": [
       "<seaborn.axisgrid.PairGrid at 0x7feedb2b66d8>"
      ]
     },
     "execution_count": 12,
     "metadata": {},
     "output_type": "execute_result"
    },
    {
     "data": {
      "image/png": "[encoded data removed]",
      "text/plain": [
       "<Figure size 836.35x720 with 20 Axes>"
      ]
     },
     "metadata": {
      "needs_background": "light"
     },
     "output_type": "display_data"
    }
   ],
   "source": [
    "sns.pairplot(data[['Pixel 0', 'Pixel 2500', 'Pixel 5000', 'Pixel 7500', 'target']], hue=\"target\")"
   ]
  },
  {
   "cell_type": "markdown",
   "metadata": {},
   "source": [
    "<div style=\"background:#FFFFAA\">\n",
    "<h1>Step 2: Building a predictive model</h1>\n",
    "</div>"
   ]
  },
  {
   "cell_type": "markdown",
   "metadata": {},
   "source": [
    "<div style=\"background:#FFFFAA\">\n",
    "    <h2>Loading data with DataManager</h2>\n",
    "    <p>\n",
    "We reload the data with the AutoML DataManager class because this is more convenient:\n",
    "   <br>     <span style=\"color:red\"> Keep this, it illustrates how data in AutoML formal are loaded by the ingestion program </span>\n",
    "</div>"
   ]
  },
  {
   "cell_type": "code",
   "execution_count": 13,
   "metadata": {},
   "outputs": [
    {
     "name": "stdout",
     "output_type": "stream",
     "text": [
      "Info file found : /home/maximechor/Documents/Cours_ENSTA/AIC_Project/Projet-AIC/starting_kit/sample_data/plankton_public.info\n",
      "DataManager : plankton\n",
      "info:\n",
      "\tusage = Sample dataset plankton data\n",
      "\tname = plankton\n",
      "\ttask = multiclass.classification\n",
      "\ttarget_type = Numerical\n",
      "\tfeat_type = Numerical\n",
      "\tmetric = bac_metric\n",
      "\ttime_budget = 1200\n",
      "\tfeat_num = 10000\n",
      "\ttarget_num = 7\n",
      "\tlabel_num = 7\n",
      "\ttrain_num = 1400\n",
      "\tvalid_num = 700\n",
      "\ttest_num = 700\n",
      "\thas_categorical = 0\n",
      "\thas_missing = 0\n",
      "\tis_sparse = 0\n",
      "\tformat = dense\n",
      "data:\n",
      "\tX_train = array(1400, 10000)\n",
      "\tY_train = array(1400, 1)\n",
      "\tX_valid = array(700, 10000)\n",
      "\tY_valid = array(700, 1)\n",
      "\tX_test = array(700, 10000)\n",
      "\tY_test = array(700, 1)\n",
      "feat_type:\tarray(10000,)\n",
      "feat_idx:\tarray(0,)\n",
      "\n"
     ]
    }
   ],
   "source": [
    "from data_manager import DataManager\n",
    "D = DataManager(data_name, data_dir, replace_missing=True)\n",
    "print(D)"
   ]
  },
  {
   "cell_type": "markdown",
   "metadata": {},
   "source": [
    "<div style=\"background:#FFFFAA\">\n",
    "    <h2>Training a predictive model</h2>\n",
    "    <p>\n",
    "We provide an example of predictive model (for classification or regression) in the `sample_code_submission/` directory. It is a quite stupid model: it makes constant predictions. Replace it with your own model.\n",
    "    </div>"
   ]
  },
  {
   "cell_type": "code",
   "execution_count": 16,
   "metadata": {},
   "outputs": [],
   "source": [
    "from data_io import write\n",
    "from model import model\n",
    "# Uncomment the next line to show the code of the model\n",
    "#??model "
   ]
  },
  {
   "cell_type": "markdown",
   "metadata": {},
   "source": [
    "<div style=\"background:#FFFFAA\">\n",
    "an instance of the model (run the constructor) and attempt to reload a previously saved version from `sample_code_submission/`:\n",
    "    \n",
    "</div>"
   ]
  },
  {
   "cell_type": "code",
   "execution_count": 17,
   "metadata": {},
   "outputs": [],
   "source": [
    "M = model()\n",
    "trained_model_name = model_dir + data_name\n",
    "# Uncomment the next line to re-load an already trained model\n",
    "#M = M.load(trained_model_name)                  "
   ]
  },
  {
   "cell_type": "markdown",
   "metadata": {},
   "source": [
    "<div style=\"background:#FFFFAA\">\n",
    "    Train the model (unless you reloaded a trained model) and make predictions. \n",
    "</div>"
   ]
  },
  {
   "cell_type": "code",
   "execution_count": 18,
   "metadata": {},
   "outputs": [
    {
     "name": "stdout",
     "output_type": "stream",
     "text": [
      "FIT: dim(X)= [1400, 10000]\n",
      "FIT: dim(y)= [1400, 1]\n",
      "PREDICT: dim(X)= [1400, 10000]\n",
      "PREDICT: dim(y)= [1400, 1]\n",
      "PREDICT: dim(X)= [700, 10000]\n",
      "PREDICT: dim(y)= [700, 1]\n",
      "PREDICT: dim(X)= [700, 10000]\n",
      "PREDICT: dim(y)= [700, 1]\n"
     ]
    }
   ],
   "source": [
    "if not(M.is_trained):\n",
    "    X_train = D.data['X_train']\n",
    "    Y_train = D.data['Y_train']\n",
    "    M.fit(X_train, Y_train)                     \n",
    "\n",
    "Y_hat_train = M.predict(D.data['X_train']) # Optional, not really needed to test on taining examples\n",
    "Y_hat_valid = M.predict(D.data['X_valid'])\n",
    "Y_hat_test = M.predict(D.data['X_test'])"
   ]
  },
  {
   "cell_type": "markdown",
   "metadata": {},
   "source": [
    "<div style=\"background:#FFFFAA\">\n",
    "    <b> Save the trained model </b> (will be ready to reload next time around) and save the prediction results. IMPORTANT: if you save the trained model, it will be bundled with your sample code submission. Therefore your model will NOT be retrained on the challenge platform. Remove the pickle from the submission if you want the model to be retrained on the platform.\n",
    "</div>"
   ]
  },
  {
   "cell_type": "code",
   "execution_count": 19,
   "metadata": {},
   "outputs": [
    {
     "name": "stdout",
     "output_type": "stream",
     "text": [
      "sample_result_submission/plankton_test.predict\r\n",
      "sample_result_submission/plankton_train.predict\r\n",
      "sample_result_submission/plankton_valid.predict\r\n"
     ]
    }
   ],
   "source": [
    "M.save(trained_model_name)                 \n",
    "result_name = result_dir + data_name\n",
    "from data_io import write\n",
    "write(result_name + '_train.predict', Y_hat_train)\n",
    "write(result_name + '_valid.predict', Y_hat_valid)\n",
    "write(result_name + '_test.predict', Y_hat_test)\n",
    "!ls $result_name*"
   ]
  },
  {
   "cell_type": "markdown",
   "metadata": {},
   "source": [
    "<div style=\"background:#FFFFAA\">\n",
    "    <h2>Scoring the results</h2>\n",
    "    <h3>Load the challenge metric</h3>\n",
    "    <p>\n",
    "<b>The metric chosen for your challenge</b> is identified in the \"metric.txt\" file found in the `scoring_function/` directory. The function \"get_metric\" searches first for a metric having that name in my_metric.py, then in libscores.py, then in sklearn.metric.\n",
    "    </div>"
   ]
  },
  {
   "cell_type": "code",
   "execution_count": 22,
   "metadata": {},
   "outputs": [
    {
     "name": "stdout",
     "output_type": "stream",
     "text": [
      "Using scoring metric: accuracy_score\n"
     ]
    }
   ],
   "source": [
    "from libscores import get_metric\n",
    "metric_name, scoring_function = get_metric()\n",
    "print('Using scoring metric:', metric_name)\n",
    "# Uncomment the next line to display the code of the scoring metric\n",
    "#??scoring_function"
   ]
  },
  {
   "cell_type": "markdown",
   "metadata": {},
   "source": [
    "<div style=\"background:#FFFFAA\">\n",
    "    <h3> Training performance </h3>\n",
    "    <p>\n",
    "The participants normally posess target values (labels) only for training examples (except for the sample data). We compute with the `example` metric the training score, which should be zero for perfect predictions.\n",
    "        </div>"
   ]
  },
  {
   "cell_type": "code",
   "execution_count": 23,
   "metadata": {},
   "outputs": [
    {
     "name": "stdout",
     "output_type": "stream",
     "text": [
      "Training score for the accuracy_score mcvetric = 0.1429\n",
      "Ideal score for the accuracy_score metric = 1.0000\n"
     ]
    }
   ],
   "source": [
    "print('Training score for the', metric_name, 'mcvetric = %5.4f' % scoring_function(Y_train, Y_hat_train))\n",
    "print('Ideal score for the', metric_name, 'metric = %5.4f' % scoring_function(Y_train, Y_train))"
   ]
  },
  {
   "cell_type": "markdown",
   "metadata": {},
   "source": [
    "You can add here other scores and result visualization."
   ]
  },
  {
   "cell_type": "code",
   "execution_count": 24,
   "metadata": {},
   "outputs": [
    {
     "data": {
      "text/plain": [
       "array([[200,   0,   0,   0,   0,   0,   0],\n",
       "       [200,   0,   0,   0,   0,   0,   0],\n",
       "       [200,   0,   0,   0,   0,   0,   0],\n",
       "       [200,   0,   0,   0,   0,   0,   0],\n",
       "       [200,   0,   0,   0,   0,   0,   0],\n",
       "       [200,   0,   0,   0,   0,   0,   0],\n",
       "       [200,   0,   0,   0,   0,   0,   0]])"
      ]
     },
     "execution_count": 24,
     "metadata": {},
     "output_type": "execute_result"
    }
   ],
   "source": [
    "from sklearn.metrics import confusion_matrix\n",
    "confusion_matrix(Y_train, Y_hat_train)"
   ]
  },
  {
   "cell_type": "markdown",
   "metadata": {},
   "source": [
    "<div style=\"background:#FFFFAA\">\n",
    "    <h3>Cross-validation performance</h3>\n",
    "    <p>\n",
    "The participants do not have access to the labels Y_valid and Y_test to self-assess their validation and test performances. But training performance is not a good prediction of validation or test performance. Using cross-validation, the training data is split into multiple training/test folds, which allows participants to self-assess their model during development. The average CV result and 95% confidence interval is displayed.\n",
    "   </div>"
   ]
  },
  {
   "cell_type": "code",
   "execution_count": 25,
   "metadata": {},
   "outputs": [
    {
     "name": "stdout",
     "output_type": "stream",
     "text": [
      "FIT: dim(X)= [1120, 10000]\n",
      "FIT: dim(y)= [1120, 1]\n",
      "PREDICT: dim(X)= [280, 10000]\n",
      "PREDICT: dim(y)= [280, 1]\n",
      "FIT: dim(X)= [1120, 10000]\n",
      "FIT: dim(y)= [1120, 1]\n",
      "PREDICT: dim(X)= [280, 10000]\n",
      "PREDICT: dim(y)= [280, 1]\n",
      "FIT: dim(X)= [1120, 10000]\n",
      "FIT: dim(y)= [1120, 1]\n",
      "PREDICT: dim(X)= [280, 10000]\n",
      "PREDICT: dim(y)= [280, 1]\n",
      "FIT: dim(X)= [1120, 10000]\n",
      "FIT: dim(y)= [1120, 1]\n",
      "PREDICT: dim(X)= [280, 10000]\n",
      "PREDICT: dim(y)= [280, 1]\n",
      "FIT: dim(X)= [1120, 10000]\n",
      "FIT: dim(y)= [1120, 1]\n",
      "PREDICT: dim(X)= [280, 10000]\n",
      "PREDICT: dim(y)= [280, 1]\n",
      "\n",
      "CV score (95 perc. CI): 0.14 (+/- 0.05)\n"
     ]
    }
   ],
   "source": [
    "from sklearn.metrics import make_scorer\n",
    "from sklearn.model_selection import cross_val_score\n",
    "scores = cross_val_score(M, X_train, Y_train, cv=5, scoring=make_scorer(scoring_function))\n",
    "print('\\nCV score (95 perc. CI): %0.2f (+/- %0.2f)' % (scores.mean(), scores.std() * 2))"
   ]
  },
  {
   "cell_type": "markdown",
   "metadata": {},
   "source": [
    "<div style=\"background:#FFFFAA\">\n",
    "<h1> Step 3: Making a submission </h1> \n",
    "\n",
    "<h2> Unit testing </h2> \n",
    "\n",
    "It is <b><span style=\"color:red\">important that you test your submission files before submitting them</span></b>. All you have to do to make a submission is modify the file <code>model.py</code> in the <code>sample_code_submission/</code> directory, then run this test to make sure everything works fine. This is the actual program that will be run on the server to test your submission. \n",
    "<br>\n",
    "Keep the sample code simple.\n",
    "</div>"
   ]
  },
  {
   "cell_type": "code",
   "execution_count": 26,
   "metadata": {
    "scrolled": true
   },
   "outputs": [
    {
     "name": "stdout",
     "output_type": "stream",
     "text": [
      "/usr/bin/sh: 1: source: not found\n",
      "Using input_dir: /home/maximechor/Documents/Cours_ENSTA/AIC_Project/Projet-AIC/starting_kit/sample_data\n",
      "Using output_dir: /home/maximechor/Documents/Cours_ENSTA/AIC_Project/Projet-AIC/starting_kit/sample_result_submission\n",
      "Using program_dir: /home/maximechor/Documents/Cours_ENSTA/AIC_Project/Projet-AIC/starting_kit/ingestion_program\n",
      "Using submission_dir: /home/maximechor/Documents/Cours_ENSTA/AIC_Project/Projet-AIC/starting_kit/sample_code_submission\n",
      "\n",
      "========== Ingestion program version 6 ==========\n",
      "\n",
      "************************************************\n",
      "******** Processing dataset Plankton ********\n",
      "************************************************\n",
      "========= Reading and converting data ==========\n",
      "Info file found : /home/maximechor/Documents/Cours_ENSTA/AIC_Project/Projet-AIC/starting_kit/sample_data/plankton_public.info\n",
      "========= Reading /home/maximechor/Documents/Cours_ENSTA/AIC_Project/Projet-AIC/starting_kit/sample_data/plankton_feat.type\n",
      "[+] Success in  0.00 sec\n",
      "========= Reading /home/maximechor/Documents/Cours_ENSTA/AIC_Project/Projet-AIC/starting_kit/sample_data/plankton_train.data\n",
      "Replace missing values by 0 (slow, sorry)\n",
      "[+] Success in  3.25 sec\n",
      "========= Reading /home/maximechor/Documents/Cours_ENSTA/AIC_Project/Projet-AIC/starting_kit/sample_data/plankton_train.solution\n",
      "[+] Success in  0.00 sec\n",
      "========= Reading /home/maximechor/Documents/Cours_ENSTA/AIC_Project/Projet-AIC/starting_kit/sample_data/plankton_valid.data\n",
      "Replace missing values by 0 (slow, sorry)\n",
      "[+] Success in  1.63 sec\n",
      "========= Reading /home/maximechor/Documents/Cours_ENSTA/AIC_Project/Projet-AIC/starting_kit/sample_data/plankton_valid.solution\n",
      "[+] Success in  0.00 sec\n",
      "========= Reading /home/maximechor/Documents/Cours_ENSTA/AIC_Project/Projet-AIC/starting_kit/sample_data/plankton_test.data\n",
      "Replace missing values by 0 (slow, sorry)\n",
      "[+] Success in  1.60 sec\n",
      "========= Reading /home/maximechor/Documents/Cours_ENSTA/AIC_Project/Projet-AIC/starting_kit/sample_data/plankton_test.solution\n",
      "[+] Success in  0.00 sec\n",
      "DataManager : plankton\n",
      "info:\n",
      "\tusage = Sample dataset plankton data\n",
      "\tname = plankton\n",
      "\ttask = multiclass.classification\n",
      "\ttarget_type = Numerical\n",
      "\tfeat_type = Numerical\n",
      "\tmetric = bac_metric\n",
      "\ttime_budget = 1200\n",
      "\tfeat_num = 10000\n",
      "\ttarget_num = 7\n",
      "\tlabel_num = 7\n",
      "\ttrain_num = 1400\n",
      "\tvalid_num = 700\n",
      "\ttest_num = 700\n",
      "\thas_categorical = 0\n",
      "\thas_missing = 0\n",
      "\tis_sparse = 0\n",
      "\tformat = dense\n",
      "data:\n",
      "\tX_train = array(1400, 10000)\n",
      "\tY_train = array(1400, 1)\n",
      "\tX_valid = array(700, 10000)\n",
      "\tY_valid = array(700, 1)\n",
      "\tX_test = array(700, 10000)\n",
      "\tY_test = array(700, 1)\n",
      "feat_type:\tarray(10000,)\n",
      "feat_idx:\tarray(10000,)\n",
      "\n",
      "[+] Size of uploaded data  56.00 bytes\n",
      "[+] Cumulated time budget (all tasks so far)  1200.00 sec\n",
      "[+] Time budget for this task 1200.00 sec\n",
      "[+] Remaining time after reading data 1193.34 sec\n",
      "======== Creating model ==========\n",
      "**********************************************************\n",
      "****** Attempting to reload model to avoid training ******\n",
      "**********************************************************\n",
      "Model reloaded from: /home/maximechor/Documents/Cours_ENSTA/AIC_Project/Projet-AIC/starting_kit/sample_code_submission/plankton_model.pickle\n",
      "[+] Model reloaded, no need to train!\n",
      "PREDICT: dim(X)= [1400, 10000]\n",
      "PREDICT: dim(y)= [1400, 1]\n",
      "PREDICT: dim(X)= [700, 10000]\n",
      "PREDICT: dim(y)= [700, 1]\n",
      "PREDICT: dim(X)= [700, 10000]\n",
      "PREDICT: dim(y)= [700, 1]\n",
      "[+] Prediction success, time spent so far  6.66 sec\n",
      "======== Saving results to: /home/maximechor/Documents/Cours_ENSTA/AIC_Project/Projet-AIC/starting_kit/sample_result_submission\n",
      "[+] Results saved, time spent so far  6.66 sec\n",
      "[+] End cycle, time left 1193.34 sec\n",
      "[+] Done\n",
      "[+] Overall time spent  7.87 sec ::  Overall time budget 1200.00 sec\n"
     ]
    }
   ],
   "source": [
    "!source activate python3; python $problem_dir/ingestion.py $data_dir $result_dir $problem_dir $model_dir"
   ]
  },
  {
   "cell_type": "markdown",
   "metadata": {},
   "source": [
    "<div style=\"background:#FFFFAA\">\n",
    "Also test the scoring program:\n",
    "    </div>"
   ]
  },
  {
   "cell_type": "code",
   "execution_count": 27,
   "metadata": {},
   "outputs": [
    {
     "name": "stdout",
     "output_type": "stream",
     "text": [
      "/usr/bin/sh: 1: source: not found\n",
      "======= Set 1 (Plankton_test): accuracy_score(set1_score)=0.142857142857 =======\n",
      "======= Set 2 (Plankton_train): accuracy_score(set2_score)=0.142857142857 =======\n",
      "======= Set 3 (Plankton_valid): accuracy_score(set3_score)=0.142857142857 =======\n"
     ]
    }
   ],
   "source": [
    "scoring_output_dir = 'scoring_output'\n",
    "!source activate python3; python $score_dir/score.py $data_dir $result_dir $scoring_output_dir"
   ]
  },
  {
   "cell_type": "markdown",
   "metadata": {
    "collapsed": true
   },
   "source": [
    "<div style=\"background:#FFFFAA\">\n",
    "    <h1> Preparing the submission </h1>\n",
    "\n",
    "Zip the contents of `sample_code_submission/` (without the directory), or download the challenge public_data and run the command in the previous cell, after replacing sample_data by public_data.\n",
    "Then zip the contents of `sample_result_submission/` (without the directory).\n",
    "<b><span style=\"color:red\">Do NOT zip the data with your submissions</span></b>."
   ]
  },
  {
   "cell_type": "code",
   "execution_count": 19,
   "metadata": {},
   "outputs": [
    {
     "name": "stdout",
     "output_type": "stream",
     "text": [
      "Submit one of these files:\n",
      "../sample_code_submission_18-11-14-14-54.zip\n",
      "../sample_result_submission_18-11-14-14-54.zip\n"
     ]
    }
   ],
   "source": [
    "import datetime \n",
    "from data_io import zipdir\n",
    "the_date = datetime.datetime.now().strftime(\"%y-%m-%d-%H-%M\")\n",
    "sample_code_submission = '../sample_code_submission_' + the_date + '.zip'\n",
    "sample_result_submission = '../sample_result_submission_' + the_date + '.zip'\n",
    "zipdir(sample_code_submission, model_dir)\n",
    "zipdir(sample_result_submission, result_dir)\n",
    "print(\"Submit one of these files:\\n\" + sample_code_submission + \"\\n\" + sample_result_submission)"
   ]
  }
 ],
 "metadata": {
  "kernelspec": {
   "display_name": "Python 3",
   "language": "python",
   "name": "python3"
  },
  "language_info": {
   "codemirror_mode": {
    "name": "ipython",
    "version": 3
   },
   "file_extension": ".py",
   "mimetype": "text/x-python",
   "name": "python",
   "nbconvert_exporter": "python",
   "pygments_lexer": "ipython3",
   "version": "3.7.3"
  }
 },
 "nbformat": 4,
 "nbformat_minor": 1
}
